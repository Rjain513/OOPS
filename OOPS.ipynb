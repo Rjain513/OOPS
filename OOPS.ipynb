{
  "nbformat": 4,
  "nbformat_minor": 0,
  "metadata": {
    "colab": {
      "provenance": []
    },
    "kernelspec": {
      "name": "python3",
      "display_name": "Python 3"
    },
    "language_info": {
      "name": "python"
    }
  },
  "cells": [
    {
      "cell_type": "code",
      "execution_count": null,
      "metadata": {
        "id": "brMU_o0XrBvS"
      },
      "outputs": [],
      "source": []
    },
    {
      "cell_type": "markdown",
      "source": [
        "Ans1) Object-Oriented Programming (OOP) is a programming paradigm that organizes software design around \"objects\" rather than functions or logic. An object can be thought of as a real-world entity that has characteristics (attributes) and behaviors (methods).\n",
        "\n",
        "Ans2) In Object-Oriented Programming (OOP), a class is a blueprint or template for creating objects. It defines the properties (attributes) and behaviors (methods) that the objects created from the class will have. A class essentially describes the structure and functionality of objects but doesn't represent a specific instance itself until an object (or instance) is created from it.\n",
        "\n",
        "\n",
        "Ans3)In Object-Oriented Programming (OOP), an object is an instance of a class. It represents a specific entity that is created based on the class blueprint. An object contains both data (attributes) and behavior (methods), which are defined by its class. Objects are the fundamental units that bring classes to life in a program.\n",
        "\n",
        "Ans4)In Object-Oriented Programming (OOP), both abstraction and encapsulation are key concepts that help in organizing and managing complex systems.\n",
        "Abstraction is the concept of hiding the complexity of the system and exposing only the necessary parts. It allows you to focus on what an object does rather than how it does it.\n",
        "Encapsulation is the concept of bundling the data (attributes) and the methods (functions) that operate on the data into a single unit or class. It also involves restricting access to some of the object's components, thus preventing unauthorized or inappropriate modifications.\n",
        "\n",
        "\n",
        "Ans5)Dunder methods (short for \"double underscore methods\"), also known as magic methods or special methods, are predefined methods in Python that have double underscores (__) before and after their names. They allow you to define how objects of a class behave in different situations, such as when they are printed, added, or compared.\n",
        "\n",
        "Ans6) Inheritance is one of the core principles of Object-Oriented Programming (OOP). It allows a class (child class) to inherit attributes and methods from another class (parent class), promoting code reusability and hierarchical relationships.\n",
        "\n",
        "\n",
        "Ans7) Polymorphism (from the Greek words poly = \"many\" and morph = \"forms\") is one of the core principles of Object-Oriented Programming (OOP). It allows objects of different classes to be treated as objects of a common superclass, enabling a single interface to work with different types.\n",
        "\n",
        "\n",
        "\n",
        "Ans8) Encapsulation is one of the core principles of Object-Oriented Programming (OOP). It is the concept of hiding the internal details of an object and only exposing the necessary functionalities. This helps in data protection, modular design, and code maintainability.\n",
        "\n",
        "\n",
        "Ans9) A constructor is a special method in Python used to initialize objects when a class is instantiated. It is automatically called when a new object of the class is created.\n",
        "\n",
        "\n",
        "\n",
        "Ans10) In object-oriented programming (OOP), both class methods and static methods are used to define behaviors related to a class rather than individual instances. In finance, they are useful for performing calculations, formatting data, and working with financial models.\n",
        "\n",
        "\n",
        "Ans11) Method Overloading is a concept in Object-Oriented Programming (OOP) where multiple methods have the same name but different parameters (number or type). The method that gets executed is determined based on the arguments passed.\n",
        "Python does not support traditional method overloading like Java\n",
        "\n",
        "Ans12) Method Overriding is an OOP feature where a child class provides a specific implementation of a method that is already defined in its parent class.\n",
        "\n",
        "The overridden method in the child class must have the same name, return type, and parameters as in the parent class.\n",
        "\n",
        "Ans13)The @property decorator in Python is used to define getters, setters, and deleters in a class. It allows us to control access to an attribute while using it like a normal variable.\n",
        "\n",
        "\n",
        "Ans14) Increases Code Reusability.\n",
        "       Improves Code Flexibility and Scalability\n",
        "       Supports Dynamic Method Invocation (Runtime Polymorphism)\n",
        "       Enhances Readability and Maintainability\n",
        "       Facilitates Interface Implementation\n",
        "\n",
        "Ans15) An abstract class is a class that cannot be instantiated and serves as a blueprint for other classes. It contains abstract methods (methods with no implementation) that must be implemented in subclasses.\n",
        "\n",
        "\n",
        "Ans16) Object-Oriented Programming (OOP) is a powerful programming paradigm that helps in structuring and organizing code efficiently. Here are its key advantages:\n",
        "Code Reusability\n",
        "Encapsulation\n",
        "Inheritance\n",
        "Polymorphism\n",
        "Abstraction\n",
        "Maintainability\n",
        "Real-World Mapping.  \n",
        "\n",
        "Ans17) Multiple inheritance is a feature in Python where a class can inherit from more than one parent class. This allows a child class to inherit attributes and methods from multiple base classes.\n",
        "\n",
        "\n",
        "Ans18)Method chaining is a technique in Object-Oriented Programming (OOP) where multiple methods are called on the same object in a single line. This is done by returning self from each method, allowing subsequent method calls.\n",
        "\n",
        "Ans19) The __call__ method in Python allows an instance of a class to be called as a function. When an object has __call__ defined, it can be used like a function, enabling flexible and intuitive syntax.\n",
        "\n",
        "Use Case: The __call__ method is useful when you want an object to behave like a function while still retaining its state.\n",
        "\n",
        "\n",
        "   \n"
      ],
      "metadata": {
        "id": "bLUwewrKrIDy"
      }
    },
    {
      "cell_type": "markdown",
      "source": [
        "\n",
        "\n",
        "# Practical Questions\n",
        "\n"
      ],
      "metadata": {
        "id": "LxZtbZNs0B7r"
      }
    },
    {
      "cell_type": "code",
      "source": [
        "# Parent class\n",
        "class Animal:\n",
        "    def speak(self):\n",
        "        print(\"This animal makes a sound.\")\n",
        "\n",
        "# Child class overriding speak()\n",
        "class Dog(Animal):\n",
        "    def speak(self):\n",
        "        print(\"Bark!\")\n",
        "\n",
        "# Creating objects\n",
        "animal = Animal()\n",
        "dog = Dog()\n",
        "\n",
        "# Calling speak() method\n",
        "animal.speak()  # Output: This animal makes a sound.\n",
        "dog.speak()     # Output: Bark!\n"
      ],
      "metadata": {
        "colab": {
          "base_uri": "https://localhost:8080/"
        },
        "id": "-gNvafLgztJl",
        "outputId": "ee10a7d4-860b-404c-ab56-eb44bab7a978"
      },
      "execution_count": null,
      "outputs": [
        {
          "output_type": "stream",
          "name": "stdout",
          "text": [
            "This animal makes a sound.\n",
            "Bark!\n"
          ]
        }
      ]
    },
    {
      "cell_type": "code",
      "source": [
        "from abc import ABC, abstractmethod\n",
        "import math\n",
        "\n",
        "# Abstract class\n",
        "class Shape(ABC):\n",
        "    @abstractmethod\n",
        "    def area(self):\n",
        "        pass  # Abstract method with no implementation\n",
        "\n",
        "# Derived class: Circle\n",
        "class Circle(Shape):\n",
        "    def __init__(self, radius):\n",
        "        self.radius = radius\n",
        "\n",
        "    def area(self):\n",
        "        return math.pi * self.radius ** 2  # πr²\n",
        "\n",
        "# Derived class: Rectangle\n",
        "class Rectangle(Shape):\n",
        "    def __init__(self, width, height):\n",
        "        self.width = width\n",
        "        self.height = height\n",
        "\n",
        "    def area(self):\n",
        "        return self.width * self.height  # width × height\n",
        "\n",
        "# Creating objects\n",
        "circle = Circle(5)\n",
        "rectangle = Rectangle(4, 6)\n",
        "\n",
        "# Calling area() method\n",
        "print(f\"Circle Area: {circle.area():.2f}\")    # Output: Circle Area: 78.54\n",
        "print(f\"Rectangle Area: {rectangle.area()}\")  # Output: Rectangle Area: 24\n"
      ],
      "metadata": {
        "colab": {
          "base_uri": "https://localhost:8080/"
        },
        "id": "6KNCdS4Zz5bW",
        "outputId": "cd030efa-b710-4107-bb01-97b8e133ae4d"
      },
      "execution_count": null,
      "outputs": [
        {
          "output_type": "stream",
          "name": "stdout",
          "text": [
            "Circle Area: 78.54\n",
            "Rectangle Area: 24\n"
          ]
        }
      ]
    },
    {
      "cell_type": "code",
      "source": [
        "# Parent class\n",
        "class Vehicle:\n",
        "    def __init__(self, type):\n",
        "        self.type = type\n",
        "\n",
        "    def show_type(self):\n",
        "        print(f\"Vehicle Type: {self.type}\")\n",
        "\n",
        "# Derived class (inherits from Vehicle)\n",
        "class Car(Vehicle):\n",
        "    def __init__(self, type, brand):\n",
        "        super().__init__(type)  # Call parent constructor\n",
        "        self.brand = brand\n",
        "\n",
        "    def show_brand(self):\n",
        "        print(f\"Car Brand: {self.brand}\")\n",
        "\n",
        "# Further derived class (inherits from Car)\n",
        "class ElectricCar(Car):\n",
        "    def __init__(self, type, brand, battery):\n",
        "        super().__init__(type, brand)  # Call Car constructor\n",
        "        self.battery = battery\n",
        "\n",
        "    def show_battery(self):\n",
        "        print(f\"Battery Capacity: {self.battery} kWh\")\n",
        "\n",
        "# Creating an object of ElectricCar\n",
        "tesla = ElectricCar(\"Electric\", \"Tesla\", 75)\n",
        "\n",
        "# Calling methods from all levels\n",
        "tesla.show_type()      # Output: Vehicle Type: Electric\n",
        "tesla.show_brand()     # Output: Car Brand: Tesla\n",
        "tesla.show_battery()   # Output: Battery Capacity: 75 kWh\n"
      ],
      "metadata": {
        "colab": {
          "base_uri": "https://localhost:8080/"
        },
        "id": "Z87d3qLU0TEi",
        "outputId": "1f339e11-b0d1-4870-fe9e-4e450945d8d1"
      },
      "execution_count": null,
      "outputs": [
        {
          "output_type": "stream",
          "name": "stdout",
          "text": [
            "Vehicle Type: Electric\n",
            "Car Brand: Tesla\n",
            "Battery Capacity: 75 kWh\n"
          ]
        }
      ]
    },
    {
      "cell_type": "code",
      "source": [
        "# Parent class\n",
        "class Bird:\n",
        "    def fly(self):\n",
        "        print(\"Some birds can fly.\")\n",
        "\n",
        "# Derived class: Sparrow\n",
        "class Sparrow(Bird):\n",
        "    def fly(self):\n",
        "        print(\"Sparrow flies high in the sky!\")\n",
        "\n",
        "# Derived class: Penguin\n",
        "class Penguin(Bird):\n",
        "    def fly(self):\n",
        "        print(\"Penguins cannot fly; they swim instead!\")\n",
        "\n",
        "# Function demonstrating polymorphism\n",
        "def bird_flight(bird):\n",
        "    bird.fly()\n",
        "\n",
        "# Creating objects\n",
        "sparrow = Sparrow()\n",
        "penguin = Penguin()\n",
        "\n",
        "# Calling fly() using polymorphism\n",
        "bird_flight(sparrow)  # Output: Sparrow flies high in the sky!\n",
        "bird_flight(penguin)  # Output: Penguins cannot fly; they swim instead!\n"
      ],
      "metadata": {
        "colab": {
          "base_uri": "https://localhost:8080/"
        },
        "id": "FEflGtdB0oz8",
        "outputId": "bb95754e-34f7-4f25-9fe0-2a77b0730d50"
      },
      "execution_count": null,
      "outputs": [
        {
          "output_type": "stream",
          "name": "stdout",
          "text": [
            "Sparrow flies high in the sky!\n",
            "Penguins cannot fly; they swim instead!\n"
          ]
        }
      ]
    },
    {
      "cell_type": "code",
      "source": [
        "class BankAccount:\n",
        "    def __init__(self, account_holder, initial_balance=0):\n",
        "        self.account_holder = account_holder\n",
        "        self.__balance = initial_balance  # Private attribute\n",
        "\n",
        "    def deposit(self, amount):\n",
        "        if amount > 0:\n",
        "            self.__balance += amount\n",
        "            print(f\"Deposited ${amount}. New balance: ${self.__balance}\")\n",
        "        else:\n",
        "            print(\"Deposit amount must be positive.\")\n",
        "\n",
        "    def withdraw(self, amount):\n",
        "        if 0 < amount <= self.__balance:\n",
        "            self.__balance -= amount\n",
        "            print(f\"Withdrew ${amount}. Remaining balance: ${self.__balance}\")\n",
        "        else:\n",
        "            print(\"Insufficient funds or invalid amount.\")\n",
        "\n",
        "    def check_balance(self):\n",
        "        print(f\"Account Balance: ${self.__balance}\")\n",
        "\n",
        "# Creating an object of BankAccount\n",
        "account = BankAccount(\"Alice\", 500)\n",
        "\n",
        "# Performing transactions\n",
        "account.deposit(200)       # Output: Deposited $200. New balance: $700\n",
        "account.withdraw(150)      # Output: Withdrew $150. Remaining balance: $550\n",
        "account.check_balance()    # Output: Account Balance: $550\n",
        "\n",
        "# Trying to access private attribute directly (will cause an error)\n",
        "# print(account.__balance)  # AttributeError: 'BankAccount' object has no attribute '__balance'\n"
      ],
      "metadata": {
        "colab": {
          "base_uri": "https://localhost:8080/"
        },
        "id": "E_U065HU0xqF",
        "outputId": "20f0e144-93f1-4466-9a1c-9005febae487"
      },
      "execution_count": null,
      "outputs": [
        {
          "output_type": "stream",
          "name": "stdout",
          "text": [
            "Deposited $200. New balance: $700\n",
            "Withdrew $150. Remaining balance: $550\n",
            "Account Balance: $550\n"
          ]
        }
      ]
    },
    {
      "cell_type": "code",
      "source": [
        "# Parent class\n",
        "class Instrument:\n",
        "    def play(self):\n",
        "        print(\"Playing an instrument...\")\n",
        "\n",
        "# Derived class: Guitar\n",
        "class Guitar(Instrument):\n",
        "    def play(self):\n",
        "        print(\"Strumming the guitar!\")\n",
        "\n",
        "# Derived class: Piano\n",
        "class Piano(Instrument):\n",
        "    def play(self):\n",
        "        print(\"Playing the piano keys!\")\n",
        "\n",
        "# Function demonstrating runtime polymorphism\n",
        "def start_playing(instrument):\n",
        "    instrument.play()\n",
        "\n",
        "# Creating objects\n",
        "guitar = Guitar()\n",
        "piano = Piano()\n",
        "\n",
        "# Calling play() dynamically based on object type\n",
        "start_playing(guitar)  # Output: Strumming the guitar!\n",
        "start_playing(piano)   # Output: Playing the piano keys!\n"
      ],
      "metadata": {
        "colab": {
          "base_uri": "https://localhost:8080/"
        },
        "id": "jMJ4ny8F07HH",
        "outputId": "eeddeb33-7396-4698-df9e-c4b6e30e3217"
      },
      "execution_count": null,
      "outputs": [
        {
          "output_type": "stream",
          "name": "stdout",
          "text": [
            "Strumming the guitar!\n",
            "Playing the piano keys!\n"
          ]
        }
      ]
    },
    {
      "cell_type": "code",
      "source": [
        "class MathOperations:\n",
        "    @classmethod\n",
        "    def add_numbers(cls, a, b):\n",
        "        return a + b  # Class method to add numbers\n",
        "\n",
        "    @staticmethod\n",
        "    def subtract_numbers(a, b):\n",
        "        return a - b  # Static method to subtract numbers\n",
        "\n",
        "# Calling class and static methods\n",
        "sum_result = MathOperations.add_numbers(10, 5)\n",
        "difference = MathOperations.subtract_numbers(10, 5)\n",
        "\n",
        "print(f\"Sum: {sum_result}\")         # Output: Sum: 15\n",
        "print(f\"Difference: {difference}\")  # Output: Difference: 5\n"
      ],
      "metadata": {
        "colab": {
          "base_uri": "https://localhost:8080/"
        },
        "id": "ax-sJV031CIr",
        "outputId": "0f3e4104-fd9f-48ed-ec55-80b8699accc4"
      },
      "execution_count": null,
      "outputs": [
        {
          "output_type": "stream",
          "name": "stdout",
          "text": [
            "Sum: 15\n",
            "Difference: 5\n"
          ]
        }
      ]
    },
    {
      "cell_type": "code",
      "source": [
        "class Person:\n",
        "    count = 0  # Class attribute to track the number of persons\n",
        "\n",
        "    def __init__(self, name):\n",
        "        self.name = name\n",
        "        Person.count += 1  # Increment count when a new object is created\n",
        "\n",
        "    @classmethod\n",
        "    def total_persons(cls):\n",
        "        return f\"Total persons created: {cls.count}\"  # Access class attribute\n",
        "\n",
        "# Creating person objects\n",
        "p1 = Person(\"Alice\")\n",
        "p2 = Person(\"Bob\")\n",
        "p3 = Person(\"Charlie\")\n",
        "\n",
        "# Calling class method to get total count\n",
        "print(Person.total_persons())  # Output: Total persons created: 3\n"
      ],
      "metadata": {
        "colab": {
          "base_uri": "https://localhost:8080/"
        },
        "id": "EEAJd_U51Iwl",
        "outputId": "d4f1fa10-6cb5-436f-d9c7-4bfb5da36034"
      },
      "execution_count": null,
      "outputs": [
        {
          "output_type": "stream",
          "name": "stdout",
          "text": [
            "Total persons created: 3\n"
          ]
        }
      ]
    },
    {
      "cell_type": "code",
      "source": [
        "class Fraction:\n",
        "    def __init__(self, numerator, denominator):\n",
        "        if denominator == 0:\n",
        "            raise ValueError(\"Denominator cannot be zero.\")  # Prevent division by zero\n",
        "        self.numerator = numerator\n",
        "        self.denominator = denominator\n",
        "\n",
        "    def __str__(self):\n",
        "        return f\"{self.numerator}/{self.denominator}\"  # Override str() for proper display\n",
        "\n",
        "# Creating fraction objects\n",
        "frac1 = Fraction(3, 4)\n",
        "frac2 = Fraction(5, 8)\n",
        "\n",
        "# Printing fractions\n",
        "print(frac1)  # Output: 3/4\n",
        "print(frac2)  # Output: 5/8\n"
      ],
      "metadata": {
        "colab": {
          "base_uri": "https://localhost:8080/"
        },
        "id": "C8Q1mC8s1Z2k",
        "outputId": "1f848db1-c683-4a7a-85da-186abc332165"
      },
      "execution_count": null,
      "outputs": [
        {
          "output_type": "stream",
          "name": "stdout",
          "text": [
            "3/4\n",
            "5/8\n"
          ]
        }
      ]
    },
    {
      "cell_type": "code",
      "source": [
        "class Vector:\n",
        "    def __init__(self, x, y):\n",
        "        self.x = x\n",
        "        self.y = y\n",
        "\n",
        "    def __add__(self, other):\n",
        "        return Vector(self.x + other.x, self.y + other.y)  # Add corresponding components\n",
        "\n",
        "    def __str__(self):\n",
        "        return f\"({self.x}, {self.y})\"  # Display vector as (x, y)\n",
        "\n",
        "# Creating vector objects\n",
        "v1 = Vector(3, 4)\n",
        "v2 = Vector(1, 2)\n",
        "\n",
        "# Adding two vectors using the overloaded + operator\n",
        "result = v1 + v2\n",
        "\n",
        "# Printing the result\n",
        "print(result)  # Output: (4, 6)\n"
      ],
      "metadata": {
        "colab": {
          "base_uri": "https://localhost:8080/"
        },
        "id": "ZKncpxLs1jwA",
        "outputId": "4ca2f081-af10-49e0-f9f5-d8090e15c905"
      },
      "execution_count": null,
      "outputs": [
        {
          "output_type": "stream",
          "name": "stdout",
          "text": [
            "(4, 6)\n"
          ]
        }
      ]
    },
    {
      "cell_type": "code",
      "source": [
        "class Person:\n",
        "    def __init__(self, name, age):\n",
        "        self.name = name\n",
        "        self.age = age\n",
        "\n",
        "    def greet(self):\n",
        "        print(f\"Hello, my name is {self.name} and I am {self.age} years old.\")\n",
        "\n",
        "# Creating person objects\n",
        "person1 = Person(\"Alice\", 25)\n",
        "person2 = Person(\"Bob\", 30)\n",
        "\n",
        "# Calling the greet method\n",
        "person1.greet()  # Output: Hello, my name is Alice and I am 25 years old.\n",
        "person2.greet()  # Output: Hello, my name is Bob and I am 30 years old.\n"
      ],
      "metadata": {
        "colab": {
          "base_uri": "https://localhost:8080/"
        },
        "id": "1EZxKClm1st4",
        "outputId": "22dee696-3836-43b7-af4f-ea3f94dde246"
      },
      "execution_count": null,
      "outputs": [
        {
          "output_type": "stream",
          "name": "stdout",
          "text": [
            "Hello, my name is Alice and I am 25 years old.\n",
            "Hello, my name is Bob and I am 30 years old.\n"
          ]
        }
      ]
    },
    {
      "cell_type": "code",
      "source": [
        "class Student:\n",
        "    def __init__(self, name, grades):\n",
        "        self.name = name\n",
        "        self.grades = grades  # List of grades\n",
        "\n",
        "    def average_grade(self):\n",
        "        if len(self.grades) == 0:\n",
        "            return 0  # Avoid division by zero\n",
        "        return sum(self.grades) / len(self.grades)  # Compute average\n",
        "\n",
        "# Creating student objects\n",
        "student1 = Student(\"Alice\", [85, 90, 78, 92])\n",
        "student2 = Student(\"Bob\", [88, 76, 95, 89])\n",
        "\n",
        "# Calculating and printing average grades\n",
        "print(f\"{student1.name}'s Average Grade: {student1.average_grade():.2f}\")\n",
        "# Output: Alice's Average Grade: 86.25\n",
        "\n",
        "print(f\"{student2.name}'s Average Grade: {student2.average_grade():.2f}\")\n",
        "# Output: Bob's Average Grade: 87.00\n"
      ],
      "metadata": {
        "colab": {
          "base_uri": "https://localhost:8080/"
        },
        "id": "YXOsdDIl11ms",
        "outputId": "3ef15ec2-2b08-455d-c6e0-21988c769826"
      },
      "execution_count": null,
      "outputs": [
        {
          "output_type": "stream",
          "name": "stdout",
          "text": [
            "Alice's Average Grade: 86.25\n",
            "Bob's Average Grade: 87.00\n"
          ]
        }
      ]
    },
    {
      "cell_type": "code",
      "source": [
        "class Rectangle:\n",
        "    def __init__(self, length=1, width=1):\n",
        "        self.length = length\n",
        "        self.width = width\n",
        "\n",
        "    def set_dimensions(self, length, width):\n",
        "        self.length = length\n",
        "        self.width = width\n",
        "\n",
        "    def area(self):\n",
        "        return self.length * self.width  # Calculate area\n",
        "\n",
        "# Creating a rectangle object\n",
        "rect = Rectangle()\n",
        "\n",
        "# Setting dimensions\n",
        "rect.set_dimensions(5, 3)\n",
        "\n",
        "# Calculating and printing the area\n",
        "print(f\"Area of the rectangle: {rect.area()}\")\n",
        "# Output: Area of the rectangle: 15\n"
      ],
      "metadata": {
        "colab": {
          "base_uri": "https://localhost:8080/"
        },
        "id": "Y0VKqgD71-os",
        "outputId": "8d01d308-27f2-4caf-8d41-74bf9008f84d"
      },
      "execution_count": null,
      "outputs": [
        {
          "output_type": "stream",
          "name": "stdout",
          "text": [
            "Area of the rectangle: 15\n"
          ]
        }
      ]
    },
    {
      "cell_type": "code",
      "source": [
        "class Employee:\n",
        "    def __init__(self, name, hours_worked, hourly_rate):\n",
        "        self.name = name\n",
        "        self.hours_worked = hours_worked\n",
        "        self.hourly_rate = hourly_rate\n",
        "\n",
        "    def calculate_salary(self):\n",
        "        return self.hours_worked * self.hourly_rate  # Basic salary calculation\n",
        "\n",
        "class Manager(Employee):\n",
        "    def __init__(self, name, hours_worked, hourly_rate, bonus):\n",
        "        super().__init__(name, hours_worked, hourly_rate)\n",
        "        self.bonus = bonus  # Additional bonus for managers\n",
        "\n",
        "    def calculate_salary(self):\n",
        "        base_salary = super().calculate_salary()  # Get base salary from Employee\n",
        "        return base_salary + self.bonus  # Add bonus to salary\n",
        "\n",
        "# Creating Employee and Manager objects\n",
        "emp = Employee(\"Alice\", 40, 20)  # 40 hours, $20 per hour\n",
        "mgr = Manager(\"Bob\", 40, 30, 500)  # 40 hours, $30 per hour + $500 bonus\n",
        "\n",
        "# Calculating salaries\n",
        "print(f\"{emp.name}'s Salary: ${emp.calculate_salary()}\")\n",
        "# Output: Alice's Salary: $800\n",
        "\n",
        "print(f\"{mgr.name}'s Salary: ${mgr.calculate_salary()}\")\n",
        "# Output: Bob's Salary: $1700 (1200 + 500 bonus)\n"
      ],
      "metadata": {
        "colab": {
          "base_uri": "https://localhost:8080/"
        },
        "id": "ofia1lbH2HSK",
        "outputId": "0c4d905e-8f4a-471b-c071-0a94b10ad3f9"
      },
      "execution_count": null,
      "outputs": [
        {
          "output_type": "stream",
          "name": "stdout",
          "text": [
            "Alice's Salary: $800\n",
            "Bob's Salary: $1700\n"
          ]
        }
      ]
    },
    {
      "cell_type": "code",
      "source": [
        "class Product:\n",
        "    def __init__(self, name, price, quantity):\n",
        "        self.name = name\n",
        "        self.price = price\n",
        "        self.quantity = quantity\n",
        "\n",
        "    def total_price(self):\n",
        "        return self.price * self.quantity  # Calculate total price\n",
        "\n",
        "# Creating product objects\n",
        "product1 = Product(\"Laptop\", 800, 2)\n",
        "product2 = Product(\"Smartphone\", 500, 3)\n",
        "\n",
        "# Calculating and printing total prices\n",
        "print(f\"Total price of {product1.name}: ${product1.total_price()}\")\n",
        "# Output: Total price of Laptop: $1600\n",
        "\n",
        "print(f\"Total price of {product2.name}: ${product2.total_price()}\")\n",
        "# Output: Total price of Smartphone: $1500\n"
      ],
      "metadata": {
        "colab": {
          "base_uri": "https://localhost:8080/"
        },
        "id": "vafbk7p12icW",
        "outputId": "65d4bccb-b3fd-42e5-9f0d-9b81a909ab27"
      },
      "execution_count": null,
      "outputs": [
        {
          "output_type": "stream",
          "name": "stdout",
          "text": [
            "Total price of Laptop: $1600\n",
            "Total price of Smartphone: $1500\n"
          ]
        }
      ]
    },
    {
      "cell_type": "code",
      "source": [
        "from abc import ABC, abstractmethod\n",
        "\n",
        "# Abstract base class\n",
        "class Animal(ABC):\n",
        "    @abstractmethod\n",
        "    def sound(self):\n",
        "        pass  # Abstract method to be implemented by subclasses\n",
        "\n",
        "# Derived class: Cow\n",
        "class Cow(Animal):\n",
        "    def sound(self):\n",
        "        return \"Moo!\"\n",
        "\n",
        "# Derived class: Sheep\n",
        "class Sheep(Animal):\n",
        "    def sound(self):\n",
        "        return \"Baa!\"\n",
        "\n",
        "# Creating objects\n",
        "cow = Cow()\n",
        "sheep = Sheep()\n",
        "\n",
        "# Calling sound() method\n",
        "print(f\"Cow sound: {cow.sound()}\")    # Output: Cow sound: Moo!\n",
        "print(f\"Sheep sound: {sheep.sound()}\")  # Output: Sheep sound: Baa!\n"
      ],
      "metadata": {
        "colab": {
          "base_uri": "https://localhost:8080/"
        },
        "id": "qbsOieLm2qUm",
        "outputId": "62b9e363-79df-4e9b-db22-0d9dd92cd671"
      },
      "execution_count": null,
      "outputs": [
        {
          "output_type": "stream",
          "name": "stdout",
          "text": [
            "Cow sound: Moo!\n",
            "Sheep sound: Baa!\n"
          ]
        }
      ]
    },
    {
      "cell_type": "code",
      "source": [
        "class Book:\n",
        "    def __init__(self, title, author, year_published):\n",
        "        self.title = title\n",
        "        self.author = author\n",
        "        self.year_published = year_published\n",
        "\n",
        "    def get_book_info(self):\n",
        "        return f\"'{self.title}' by {self.author}, published in {self.year_published}.\"\n",
        "\n",
        "# Creating book objects\n",
        "book1 = Book(\"To Kill a Mockingbird\", \"Harper Lee\", 1960)\n",
        "book2 = Book(\"1984\", \"George Orwell\", 1949)\n",
        "\n",
        "# Printing book details\n",
        "print(book1.get_book_info())\n",
        "# Output: 'To Kill a Mockingbird' by Harper Lee, published in 1960.\n",
        "\n",
        "print(book2.get_book_info())\n",
        "# Output: '1984' by George Orwell, published in 1949.\n"
      ],
      "metadata": {
        "colab": {
          "base_uri": "https://localhost:8080/"
        },
        "id": "7yVpA8XO2ypi",
        "outputId": "5e8c5519-6b72-4d2f-89d5-dff0050df130"
      },
      "execution_count": null,
      "outputs": [
        {
          "output_type": "stream",
          "name": "stdout",
          "text": [
            "'To Kill a Mockingbird' by Harper Lee, published in 1960.\n",
            "'1984' by George Orwell, published in 1949.\n"
          ]
        }
      ]
    },
    {
      "cell_type": "code",
      "source": [
        "class House:\n",
        "    def __init__(self, address, price):\n",
        "        self.address = address\n",
        "        self.price = price\n",
        "\n",
        "    def get_info(self):\n",
        "        return f\"House located at {self.address}, priced at ${self.price}.\"\n",
        "\n",
        "# Derived class: Mansion\n",
        "class Mansion(House):\n",
        "    def __init__(self, address, price, number_of_rooms):\n",
        "        super().__init__(address, price)  # Inherit from House\n",
        "        self.number_of_rooms = number_of_rooms\n",
        "\n",
        "    def get_info(self):\n",
        "        return f\"Mansion at {self.address}, priced at ${self.price}, with {self.number_of_rooms} rooms.\"\n",
        "\n",
        "# Creating objects\n",
        "house = House(\"123 Main St\", 250000)\n",
        "mansion = Mansion(\"456 Luxury Ln\", 5000000, 10)\n",
        "\n",
        "# Printing information\n",
        "print(house.get_info())\n",
        "# Output: House located at 123 Main St, priced at $250000.\n",
        "\n",
        "print(mansion.get_info())\n",
        "# Output: Mansion at 456 Luxury Ln, priced at $5000000, with 10 rooms.\n"
      ],
      "metadata": {
        "colab": {
          "base_uri": "https://localhost:8080/"
        },
        "id": "OPx2bZzJ3EfF",
        "outputId": "c34d38cb-6551-4f4b-ba89-d746fe317c6b"
      },
      "execution_count": null,
      "outputs": [
        {
          "output_type": "stream",
          "name": "stdout",
          "text": [
            "House located at 123 Main St, priced at $250000.\n",
            "Mansion at 456 Luxury Ln, priced at $5000000, with 10 rooms.\n"
          ]
        }
      ]
    },
    {
      "cell_type": "code",
      "source": [],
      "metadata": {
        "id": "uneBdxfA3M66"
      },
      "execution_count": null,
      "outputs": []
    }
  ]
}